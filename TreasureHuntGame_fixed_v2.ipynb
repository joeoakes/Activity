{
  "cells": [
    {
      "cell_type": "markdown",
      "metadata": {
        "id": "view-in-github",
        "colab_type": "text"
      },
      "source": [
        "<a href=\"https://colab.research.google.com/github/joeoakes/Activity/blob/master/TreasureHuntGame_fixed_v2.ipynb\" target=\"_parent\"><img src=\"https://colab.research.google.com/assets/colab-badge.svg\" alt=\"Open In Colab\"/></a>"
      ]
    },
    {
      "cell_type": "markdown",
      "metadata": {
        "id": "sfO6GTl1qfEB"
      },
      "source": [
        "# Treasure Hunt Game Notebook\n",
        "\n",
        "## Read and Review Your Starter Code\n",
        "The theme of this project is a popular treasure hunt game in which the player needs to find the treasure before the pirate does. While you will not be developing the entire game, you will write the part of the game that represents the intelligent agent, which is a pirate in this case. The pirate will try to find the optimal path to the treasure using deep Q-learning.\n",
        "\n",
        "You have been provided with two Python classes and this notebook to help you with this assignment. The first class, <b>TreasureMaze.py</b>, represents the environment, which includes a maze object defined as a matrix. The second class, <b>GameExperience.py</b>, stores the episodes – that is, all the states that come in between the initial state and the terminal state. This is later used by the agent for learning by experience, called \"exploration\". This notebook shows how to play a game. Your task is to complete the deep Q-learning implementation in the qtrain() function for which a skeleton implementation has been provided.\n",
        "\n",
        "The code block you will need to complete has <b>#TODO</b> as a header.\n",
        "\n",
        "First, read and review the next few code and instruction blocks to understand the code that you have been given."
      ]
    },
    {
      "cell_type": "markdown",
      "metadata": {
        "id": "mm3UM945qfEC"
      },
      "source": [
        "<div class=\"alert alert-block alert-warning\" style=\"color: #333333;\">\n",
        "<b>Installations</b> The following command will install the necessary Python libraries to necessary to run this application. If you see a \"[notice] A new release of pip is available: 23.1.2 -> 25.2\" at the end of the installation, you may disregard that statement.\n",
        "</div>"
      ]
    },
    {
      "cell_type": "code",
      "execution_count": 1,
      "metadata": {
        "colab": {
          "base_uri": "https://localhost:8080/"
        },
        "id": "1bb3AuLHqfED",
        "scrolled": true,
        "outputId": "2179d3c2-9088-48e3-beec-793a2492e28f"
      },
      "outputs": [
        {
          "output_type": "stream",
          "name": "stdout",
          "text": [
            "Requirement already satisfied: numpy==1.26.4 in /usr/local/lib/python3.12/dist-packages (from -r requirements.txt (line 1)) (1.26.4)\n",
            "Requirement already satisfied: keras in /usr/local/lib/python3.12/dist-packages (from -r requirements.txt (line 2)) (3.10.0)\n",
            "Requirement already satisfied: tensorflow==2.19.0 in /usr/local/lib/python3.12/dist-packages (from -r requirements.txt (line 3)) (2.19.0)\n",
            "Requirement already satisfied: absl-py>=1.0.0 in /usr/local/lib/python3.12/dist-packages (from tensorflow==2.19.0->-r requirements.txt (line 3)) (1.4.0)\n",
            "Requirement already satisfied: astunparse>=1.6.0 in /usr/local/lib/python3.12/dist-packages (from tensorflow==2.19.0->-r requirements.txt (line 3)) (1.6.3)\n",
            "Requirement already satisfied: flatbuffers>=24.3.25 in /usr/local/lib/python3.12/dist-packages (from tensorflow==2.19.0->-r requirements.txt (line 3)) (25.9.23)\n",
            "Requirement already satisfied: gast!=0.5.0,!=0.5.1,!=0.5.2,>=0.2.1 in /usr/local/lib/python3.12/dist-packages (from tensorflow==2.19.0->-r requirements.txt (line 3)) (0.6.0)\n",
            "Requirement already satisfied: google-pasta>=0.1.1 in /usr/local/lib/python3.12/dist-packages (from tensorflow==2.19.0->-r requirements.txt (line 3)) (0.2.0)\n",
            "Requirement already satisfied: libclang>=13.0.0 in /usr/local/lib/python3.12/dist-packages (from tensorflow==2.19.0->-r requirements.txt (line 3)) (18.1.1)\n",
            "Requirement already satisfied: opt-einsum>=2.3.2 in /usr/local/lib/python3.12/dist-packages (from tensorflow==2.19.0->-r requirements.txt (line 3)) (3.4.0)\n",
            "Requirement already satisfied: packaging in /usr/local/lib/python3.12/dist-packages (from tensorflow==2.19.0->-r requirements.txt (line 3)) (25.0)\n",
            "Requirement already satisfied: protobuf!=4.21.0,!=4.21.1,!=4.21.2,!=4.21.3,!=4.21.4,!=4.21.5,<6.0.0dev,>=3.20.3 in /usr/local/lib/python3.12/dist-packages (from tensorflow==2.19.0->-r requirements.txt (line 3)) (5.29.5)\n",
            "Requirement already satisfied: requests<3,>=2.21.0 in /usr/local/lib/python3.12/dist-packages (from tensorflow==2.19.0->-r requirements.txt (line 3)) (2.32.4)\n",
            "Requirement already satisfied: setuptools in /usr/local/lib/python3.12/dist-packages (from tensorflow==2.19.0->-r requirements.txt (line 3)) (75.2.0)\n",
            "Requirement already satisfied: six>=1.12.0 in /usr/local/lib/python3.12/dist-packages (from tensorflow==2.19.0->-r requirements.txt (line 3)) (1.17.0)\n",
            "Requirement already satisfied: termcolor>=1.1.0 in /usr/local/lib/python3.12/dist-packages (from tensorflow==2.19.0->-r requirements.txt (line 3)) (3.1.0)\n",
            "Requirement already satisfied: typing-extensions>=3.6.6 in /usr/local/lib/python3.12/dist-packages (from tensorflow==2.19.0->-r requirements.txt (line 3)) (4.15.0)\n",
            "Requirement already satisfied: wrapt>=1.11.0 in /usr/local/lib/python3.12/dist-packages (from tensorflow==2.19.0->-r requirements.txt (line 3)) (1.17.3)\n",
            "Requirement already satisfied: grpcio<2.0,>=1.24.3 in /usr/local/lib/python3.12/dist-packages (from tensorflow==2.19.0->-r requirements.txt (line 3)) (1.75.1)\n",
            "Requirement already satisfied: tensorboard~=2.19.0 in /usr/local/lib/python3.12/dist-packages (from tensorflow==2.19.0->-r requirements.txt (line 3)) (2.19.0)\n",
            "Requirement already satisfied: h5py>=3.11.0 in /usr/local/lib/python3.12/dist-packages (from tensorflow==2.19.0->-r requirements.txt (line 3)) (3.14.0)\n",
            "Requirement already satisfied: ml-dtypes<1.0.0,>=0.5.1 in /usr/local/lib/python3.12/dist-packages (from tensorflow==2.19.0->-r requirements.txt (line 3)) (0.5.3)\n",
            "Requirement already satisfied: rich in /usr/local/lib/python3.12/dist-packages (from keras->-r requirements.txt (line 2)) (13.9.4)\n",
            "Requirement already satisfied: namex in /usr/local/lib/python3.12/dist-packages (from keras->-r requirements.txt (line 2)) (0.1.0)\n",
            "Requirement already satisfied: optree in /usr/local/lib/python3.12/dist-packages (from keras->-r requirements.txt (line 2)) (0.17.0)\n",
            "Requirement already satisfied: wheel<1.0,>=0.23.0 in /usr/local/lib/python3.12/dist-packages (from astunparse>=1.6.0->tensorflow==2.19.0->-r requirements.txt (line 3)) (0.45.1)\n",
            "Requirement already satisfied: charset_normalizer<4,>=2 in /usr/local/lib/python3.12/dist-packages (from requests<3,>=2.21.0->tensorflow==2.19.0->-r requirements.txt (line 3)) (3.4.3)\n",
            "Requirement already satisfied: idna<4,>=2.5 in /usr/local/lib/python3.12/dist-packages (from requests<3,>=2.21.0->tensorflow==2.19.0->-r requirements.txt (line 3)) (3.10)\n",
            "Requirement already satisfied: urllib3<3,>=1.21.1 in /usr/local/lib/python3.12/dist-packages (from requests<3,>=2.21.0->tensorflow==2.19.0->-r requirements.txt (line 3)) (2.5.0)\n",
            "Requirement already satisfied: certifi>=2017.4.17 in /usr/local/lib/python3.12/dist-packages (from requests<3,>=2.21.0->tensorflow==2.19.0->-r requirements.txt (line 3)) (2025.8.3)\n",
            "Requirement already satisfied: markdown>=2.6.8 in /usr/local/lib/python3.12/dist-packages (from tensorboard~=2.19.0->tensorflow==2.19.0->-r requirements.txt (line 3)) (3.9)\n",
            "Requirement already satisfied: tensorboard-data-server<0.8.0,>=0.7.0 in /usr/local/lib/python3.12/dist-packages (from tensorboard~=2.19.0->tensorflow==2.19.0->-r requirements.txt (line 3)) (0.7.2)\n",
            "Requirement already satisfied: werkzeug>=1.0.1 in /usr/local/lib/python3.12/dist-packages (from tensorboard~=2.19.0->tensorflow==2.19.0->-r requirements.txt (line 3)) (3.1.3)\n",
            "Requirement already satisfied: markdown-it-py>=2.2.0 in /usr/local/lib/python3.12/dist-packages (from rich->keras->-r requirements.txt (line 2)) (4.0.0)\n",
            "Requirement already satisfied: pygments<3.0.0,>=2.13.0 in /usr/local/lib/python3.12/dist-packages (from rich->keras->-r requirements.txt (line 2)) (2.19.2)\n",
            "Requirement already satisfied: mdurl~=0.1 in /usr/local/lib/python3.12/dist-packages (from markdown-it-py>=2.2.0->rich->keras->-r requirements.txt (line 2)) (0.1.2)\n",
            "Requirement already satisfied: MarkupSafe>=2.1.1 in /usr/local/lib/python3.12/dist-packages (from werkzeug>=1.0.1->tensorboard~=2.19.0->tensorflow==2.19.0->-r requirements.txt (line 3)) (3.0.3)\n"
          ]
        }
      ],
      "source": [
        "!pip install -r requirements.txt"
      ]
    },
    {
      "cell_type": "markdown",
      "metadata": {
        "id": "g_92MejqqfEE"
      },
      "source": [
        "<h2>Tensorflow CPU Acceleration Warning</h2>\n",
        "<div class=\"alert alert-block alert-danger\" style=\"color: #333333;\">\n",
        "    You will see a <b>warning in red</b> \"oneDNN custom operations are on. You may see slightly different numerical results due to floating-point round-off errors from different computation orders\". This is simply coming from <b>Tensorflow to accelerate computations on CPU.</b>  \n",
        "</div>"
      ]
    },
    {
      "cell_type": "code",
      "execution_count": 2,
      "metadata": {
        "id": "gi3UOisUqfEE"
      },
      "outputs": [],
      "source": [
        "from __future__ import print_function\n",
        "import os, sys, time, datetime, json, random\n",
        "import numpy as np\n",
        "import tensorflow as tf\n",
        "from tensorflow.keras.models import clone_model\n",
        "from keras.models import Sequential\n",
        "from keras.layers import Dense, Activation, PReLU\n",
        "from keras.optimizers import SGD , Adam, RMSprop\n",
        "import matplotlib.pyplot as plt\n",
        "from TreasureMaze import TreasureMaze\n",
        "from GameExperience import GameExperience\n",
        "%matplotlib inline"
      ]
    },
    {
      "cell_type": "code",
      "execution_count": 3,
      "metadata": {
        "id": "c2003ee3"
      },
      "outputs": [],
      "source": [
        "def build_model(maze, num_actions):\n",
        "    \"\"\"Build a simple DQN model.\n",
        "    - Input: flattened maze state of length maze.size\n",
        "    - Output: Q-values for each action (num_actions)\n",
        "    \"\"\"\n",
        "    model = Sequential()\n",
        "    # Input layer: one neuron per maze cell\n",
        "    model.add(Dense(maze.size, input_shape=(maze.size,)))\n",
        "    model.add(PReLU())\n",
        "\n",
        "    # Hidden layer\n",
        "    model.add(Dense(maze.size))\n",
        "    model.add(PReLU())\n",
        "\n",
        "    # Output layer: one neuron per action\n",
        "    model.add(Dense(num_actions))\n",
        "\n",
        "    # Compile with Adam optimizer and MSE loss\n",
        "    model.compile(optimizer='adam', loss='mse')\n",
        "    return model\n"
      ]
    },
    {
      "cell_type": "markdown",
      "metadata": {
        "id": "7OSb5htjqfEE"
      },
      "source": [
        "<h2> Maze Object Generation</h2>\n",
        "\n",
        "The following code block contains an 8x8 matrix that will be used as a maze object:"
      ]
    },
    {
      "cell_type": "code",
      "execution_count": 4,
      "metadata": {
        "id": "6Y0q5wsDqfEE"
      },
      "outputs": [],
      "source": [
        "maze = np.array([\n",
        "    [ 1.,  0.,  1.,  1.,  1.,  1.,  1.,  1.],\n",
        "    [ 1.,  0.,  1.,  1.,  1.,  0.,  1.,  1.],\n",
        "    [ 1.,  1.,  1.,  1.,  0.,  1.,  0.,  1.],\n",
        "    [ 1.,  1.,  1.,  0.,  1.,  1.,  1.,  1.],\n",
        "    [ 1.,  1.,  0.,  1.,  1.,  1.,  1.,  1.],\n",
        "    [ 1.,  1.,  1.,  0.,  1.,  0.,  0.,  0.],\n",
        "    [ 1.,  1.,  1.,  0.,  1.,  1.,  1.,  1.],\n",
        "    [ 1.,  1.,  1.,  1.,  0.,  1.,  1.,  1.]\n",
        "])"
      ]
    },
    {
      "cell_type": "markdown",
      "metadata": {
        "id": "WP6IVHWEqfEF"
      },
      "source": [
        "<h2>Helper Functions and Global Variables</h2>\n",
        "\n",
        "This <b>show()</b> helper function allows a visual representation of the maze object:"
      ]
    },
    {
      "cell_type": "code",
      "execution_count": 5,
      "metadata": {
        "id": "8j4ocy_dqfEF"
      },
      "outputs": [],
      "source": [
        "def show(qmaze):\n",
        "    plt.grid('on')\n",
        "    nrows, ncols = qmaze.maze.shape\n",
        "    ax = plt.gca()\n",
        "    ax.set_xticks(np.arange(0.5, nrows, 1))\n",
        "    ax.set_yticks(np.arange(0.5, ncols, 1))\n",
        "    ax.set_xticklabels([])\n",
        "    ax.set_yticklabels([])\n",
        "    canvas = np.copy(qmaze.maze)\n",
        "    for row,col in qmaze.visited:\n",
        "        canvas[row,col] = 0.6\n",
        "    pirate_row, pirate_col, _ = qmaze.state\n",
        "    canvas[pirate_row, pirate_col] = 0.3   # pirate cell\n",
        "    canvas[nrows-1, ncols-1] = 0.9 # treasure cell\n",
        "    img = plt.imshow(canvas, interpolation='none', cmap='gray')\n",
        "    return img"
      ]
    },
    {
      "cell_type": "markdown",
      "metadata": {
        "id": "i6Qq7cGcqfEF"
      },
      "source": [
        "The <b>pirate agent</b> can move in four directions: left, right, up, and down.\n",
        "\n",
        "While the agent primarily learns by experience through exploitation, often, the agent can choose to explore the environment to find previously undiscovered paths. This is called \"exploration\" and is defined by epsilon. This value is the EXPLORATION values from the Cartpole assignment. The hyperparameters are provided here and used in the qtrain() method.\n",
        "You are encouraged to try various values for the exploration factor and see how the algorithm performs."
      ]
    },
    {
      "cell_type": "code",
      "execution_count": 6,
      "metadata": {
        "id": "RX-FsK_9qfEF"
      },
      "outputs": [],
      "source": [
        "LEFT = 0\n",
        "UP = 1\n",
        "RIGHT = 2\n",
        "DOWN = 3\n",
        "\n",
        "\n",
        "# Exploration factor\n",
        "epsilon = 1.0\n",
        "epsilon_min = 0.05\n",
        "epsilon_decay = 0.995\n",
        "patience = 10\n",
        "\n",
        "# Actions dictionary\n",
        "actions_dict = {\n",
        "    LEFT: 'left',\n",
        "    UP: 'up',\n",
        "    RIGHT: 'right',\n",
        "    DOWN: 'down',\n",
        "}\n",
        "\n",
        "num_actions = len(actions_dict)\n"
      ]
    },
    {
      "cell_type": "markdown",
      "metadata": {
        "id": "j9wGzYS2qfEF"
      },
      "source": [
        "The sample code block and output below show creating a maze object and performing one action (DOWN), which returns the reward. The resulting updated environment is visualized."
      ]
    },
    {
      "cell_type": "code",
      "execution_count": 7,
      "metadata": {
        "colab": {
          "base_uri": "https://localhost:8080/",
          "height": 446
        },
        "id": "8nTdZNYlqfEF",
        "outputId": "3657ae3e-a5a8-4289-e9bf-7826097d4f69"
      },
      "outputs": [
        {
          "output_type": "stream",
          "name": "stdout",
          "text": [
            "reward= -0.04\n"
          ]
        },
        {
          "output_type": "execute_result",
          "data": {
            "text/plain": [
              "<matplotlib.image.AxesImage at 0x785c57308740>"
            ]
          },
          "metadata": {},
          "execution_count": 7
        },
        {
          "output_type": "display_data",
          "data": {
            "text/plain": [
              "<Figure size 640x480 with 1 Axes>"
            ],
            "image/png": "[encoded data removed]"
          },
          "metadata": {}
        }
      ],
      "source": [
        "qmaze = TreasureMaze(maze)\n",
        "canvas, reward, game_over = qmaze.act(DOWN)\n",
        "print(\"reward=\", reward)\n",
        "show(qmaze)"
      ]
    },
    {
      "cell_type": "markdown",
      "metadata": {
        "id": "xubB1oDKqfEG"
      },
      "source": [
        "This <b>play_game()</b> function simulates a full game based on the provided trained model. The other parameters include the TreasureMaze object, the starting position of the pirate and max amount of steps to make sure the code does not get stuck in a loop."
      ]
    },
    {
      "cell_type": "code",
      "execution_count": 8,
      "metadata": {
        "id": "h_6G-UTJqfEG"
      },
      "outputs": [],
      "source": [
        "def play_game(model, qmaze, pirate_cell, max_steps=None):\n",
        "    qmaze.reset(pirate_cell)\n",
        "    envstate = qmaze.observe()\n",
        "    steps = 0\n",
        "    if max_steps is None:\n",
        "        max_steps = qmaze.maze.size * 4  # safety cutoff\n",
        "\n",
        "    while steps < max_steps:\n",
        "        state = np.asarray(envstate, dtype=np.float32)\n",
        "        if state.ndim == 1:\n",
        "            state = np.expand_dims(state, axis=0)\n",
        "\n",
        "        q_values = model(state, training=False).numpy()\n",
        "        action = np.argmax(q_values[0])\n",
        "\n",
        "        envstate, reward, game_status = qmaze.act(action)\n",
        "        steps += 1\n",
        "\n",
        "        if game_status == 'win':\n",
        "            return True\n",
        "        elif game_status == 'lose':\n",
        "            return False\n",
        "\n",
        "    return False  # timed out with no result"
      ]
    },
    {
      "cell_type": "markdown",
      "metadata": {
        "id": "zR7hEfcnqfEG"
      },
      "source": [
        "This <b>completion_check()</b> function helps you to determine whether the pirate can win any game at all. If your maze is not well designed, the pirate may not win any game at all. In this case, your training would not yield any result. The provided maze in this notebook ensures that there is a path to win and you can run this method to check."
      ]
    },
    {
      "cell_type": "code",
      "execution_count": 9,
      "metadata": {
        "id": "DMTnn4NdqfEG"
      },
      "outputs": [],
      "source": [
        "def completion_check(model, maze_or_qmaze, max_steps=None):\n",
        "    # Accept either raw numpy maze or TreasureMaze instance\n",
        "    if isinstance(maze_or_qmaze, TreasureMaze):\n",
        "        qmaze = maze_or_qmaze\n",
        "    else:\n",
        "        qmaze = TreasureMaze(maze_or_qmaze)\n",
        "\n",
        "    for cell in qmaze.free_cells:\n",
        "        if not qmaze.valid_actions(cell):\n",
        "            continue\n",
        "        if not play_game(model, qmaze, cell, max_steps=max_steps):\n",
        "            return False\n",
        "    return True"
      ]
    },
    {
      "cell_type": "markdown",
      "metadata": {
        "id": "wWUkGft9qfEG"
      },
      "source": [
        "The <b>build_model()</b> function in the block below will build the neural network model. Review the code and note the number of layers, as well as the activation, optimizer, and loss functions that are used to train the model."
      ]
    },
    {
      "cell_type": "code",
      "execution_count": 10,
      "metadata": {
        "id": "oiVQOFkKqfEG"
      },
      "outputs": [],
      "source": [
        "def build_model(maze):\n",
        "    model = Sequential()\n",
        "    model.add(Dense(maze.size, input_shape=(maze.size,)))\n",
        "    model.add(PReLU())\n",
        "    model.add(Dense(maze.size))\n",
        "    model.add(PReLU())\n",
        "    model.add(Dense(num_actions))\n",
        "    model.compile(optimizer='adam', loss='mse')\n",
        "    return model"
      ]
    },
    {
      "cell_type": "markdown",
      "metadata": {
        "id": "Dncm4uDAqfEG"
      },
      "source": [
        "This <b>train_step()</b> helper function in the block below is used to help predict Q-values (quality values) in the current modelto see how good each action is in a given state and improve the Q-network by reducing the gap between what is predicted and what should have been predicted.\n",
        "\n",
        "If you're interested in reading up on the <i>@tf.function</i>, which is a decorator for Tensorflow to run this code into a TensorFlow computation graph, please refer to this link: https://www.tensorflow.org/guide/intro_to_graphs\n",
        "\n"
      ]
    },
    {
      "cell_type": "markdown",
      "metadata": {
        "id": "8Idpig1TqfEG"
      },
      "source": [
        "<h2>Tensorflow GPU Warning</h2>\n",
        "<div class=\"alert alert-block alert-danger\" style=\"color: #333333;\">\n",
        "    You will see a <b>warning in red</b> \"INTERNAL: CUDA Runtime error: Failed call to cudaGetRuntimeVersion: Error loading CUDA libraries. GPU will not be used.\". This is simply coming from <b>Tensorflow skipping using GPU for this assignment.</b>  \n",
        " </div>"
      ]
    },
    {
      "cell_type": "code",
      "execution_count": 11,
      "metadata": {
        "id": "KiiQf2e0qfEG"
      },
      "outputs": [],
      "source": [
        "loss_fn = tf.keras.losses.MeanSquaredError()\n",
        "optimizer = tf.keras.optimizers.Adam()\n",
        "\n",
        "@tf.function\n",
        "def train_step(x, y):\n",
        "    with tf.GradientTape() as tape:\n",
        "        q_values = model(x, training=True)\n",
        "        loss = loss_fn(y, q_values)\n",
        "    grads = tape.gradient(loss, model.trainable_variables)\n",
        "    optimizer.apply_gradients(zip(grads, model.trainable_variables))\n",
        "    return loss"
      ]
    },
    {
      "cell_type": "markdown",
      "metadata": {
        "id": "eWu0inf8qfEH"
      },
      "source": [
        "# #TODO: Complete the Q-Training Algorithm Code Block\n",
        "\n",
        "This is your deep Q-learning implementation. The goal of your deep Q-learning implementation is to find the best possible navigation sequence that results in reaching the treasure cell while maximizing the reward. In your implementation, you need to determine the optimal number of epochs to achieve a 100% win rate.\n",
        "\n",
        "    Pseudocode:\n",
        "    For each epoch:\n",
        "        Reset the environment at a random starting cell\n",
        "        agent_cell = randomly select a free cell\n",
        "        Hint: Review the reset method in the TreasureMaze.py class.\n",
        "    \n",
        "        Set the initial environment state\n",
        "        env_state should reference the environment's current state\n",
        "        Hint: Review the observe method in the TreasureMaze.py class.\n",
        "\n",
        "        While game status is not game over:\n",
        "           previous_envstate = env_state\n",
        "            Decide on an action:\n",
        "                - If possible, take a random valid exploration action and\n",
        "                  randomly choose action (left, right, up, down)\n",
        "                  and assign it to an action variable\n",
        "                - Else, pick the best exploitation action from the model and assign it to an action variable\n",
        "                  Hint: Review the predict method in the GameExperience.py class.\n",
        "    \n",
        "           Retrieve the values below from the act() method.\n",
        "           env_state, reward, game_status = qmaze.act(action)\n",
        "           Hint: Review the act method in the TreasureMaze.py class.\n",
        "    \n",
        "            Track the wins and losses from the game_status using win_history\n",
        "         \n",
        "           Store the episode below in the Experience replay object\n",
        "           episode = [previous_envstate, action, reward, envstate, game_status]\n",
        "           Hint: Review the remember method in the GameExperience.py class.\n",
        "        \n",
        "           Train neural network model and evaluate loss\n",
        "           Hint: Call GameExperience.get_data to retrieve training data (input and target)\n",
        "           and pass to the train_step method and assign it to batch_loss and append to the loss variable\n",
        "        \n",
        "      If the win rate is above the threshold and your model passes the completion check, that would be your epoch.\n",
        "\n",
        "Note: A 100% win rate <b>DOES NOT EXPLICITLY MEAN</b> that you have solved the maze. It simply indicates that during the last evaluation, the pirate <i>happened</i> to get to the treasure. Be sure to utilise the <b>completion_check()</b> function to validate your pirate found the treasure at every starting point and consistently!\n",
        "\n",
        "<b> You will need to complete the section starting with #START_HERE. Please use the pseudocode above as guidance. </b>\n",
        "\n",
        "\n"
      ]
    },
    {
      "cell_type": "code",
      "execution_count": 12,
      "metadata": {
        "id": "9cJk1FIuqfEH"
      },
      "outputs": [],
      "source": [
        "def qtrain(model, maze, **opt):\n",
        "    # exploration factor\n",
        "    global epsilon\n",
        "\n",
        "    # Number of epochs\n",
        "    n_epoch = opt.get('n_epoch', 15000)\n",
        "\n",
        "    # Maximum meory to store episodes\n",
        "    max_memory = opt.get('max_memory', 1000)\n",
        "\n",
        "    # Maximum data size for training\n",
        "    data_size = opt.get('data_size', 50)\n",
        "\n",
        "    # Frequency of target network updates\n",
        "    target_update_freq = opt.get('target_update_freq', 50)\n",
        "\n",
        "    # Start time\n",
        "    start_time = datetime.datetime.now()\n",
        "\n",
        "    # Construct environment/game from numpy array: maze (see argument above)\n",
        "    qmaze = TreasureMaze(maze)\n",
        "\n",
        "    # Target Network to better guide training\n",
        "    target_model = clone_model(model)\n",
        "    target_model.set_weights(model.get_weights())\n",
        "\n",
        "    # Initialize experience replay object\n",
        "    experience = GameExperience(model, target_model, max_memory=max_memory)\n",
        "\n",
        "    win_history = [] # history of win/lose game\n",
        "    hsize = qmaze.maze.size // 2 #history window size\n",
        "    win_rate = 0.0\n",
        "    n_episodes = 0\n",
        "\n",
        "    # START_HERE\n",
        "    for epoch in range(n_epoch):\n",
        "        loss = 0.0\n",
        "        # Reset the environment at a random starting cell\n",
        "        agent_cell = random.choice(qmaze.free_cells)\n",
        "        qmaze.reset(agent_cell)\n",
        "\n",
        "        # Set the initial environment state\n",
        "        env_state = qmaze.observe()\n",
        "\n",
        "        game_status = 'not_over'\n",
        "        while game_status == 'not_over':\n",
        "            previous_envstate = env_state\n",
        "\n",
        "            # Decide on an action:\n",
        "            # If possible, take a random valid exploration action\n",
        "            if np.random.rand() < epsilon:\n",
        "                action = random.choice(qmaze.valid_actions())\n",
        "            # Else, pick the best exploitation action from the model\n",
        "            else:\n",
        "                state = np.asarray(env_state, dtype=np.float32)\n",
        "                if state.ndim == 1:\n",
        "                    state = np.expand_dims(state, axis=0)\n",
        "                q_values = model(state, training=False).numpy()\n",
        "                action = np.argmax(q_values[0])\n",
        "\n",
        "            # Retrieve values from the act() method\n",
        "            env_state, reward, game_status = qmaze.act(action)\n",
        "\n",
        "            # Track wins and losses\n",
        "            if game_status == 'win':\n",
        "                win_history.append(1)\n",
        "            elif game_status == 'lose':\n",
        "                win_history.append(0)\n",
        "\n",
        "\n",
        "            # Store the episode in the Experience replay object\n",
        "            episode = [previous_envstate, action, reward, env_state, game_status]\n",
        "            experience.remember(episode)\n",
        "\n",
        "            # Train neural network model and evaluate loss\n",
        "            inputs, targets = experience.get_data() # Removed data_size argument\n",
        "            batch_loss = train_step(inputs, targets)\n",
        "            loss += batch_loss\n",
        "\n",
        "        n_episodes += 1\n",
        "\n",
        "        # Win rate over last hsize steps\n",
        "        win_rate = sum(win_history[-hsize:]) / hsize if len(win_history) >= hsize else 0.0\n",
        "\n",
        "        # Print the epoch, loss, episode, win count, win rate, and time for each epoch\n",
        "        dt = datetime.datetime.now() - start_time\n",
        "        t = format_time(dt.total_seconds())\n",
        "        print(\"Epoch: {:03d}/{:d} | Loss: {:.4f} | Episodes: {:d} | Win count: {:d} | Win rate: {:.3f} | time: {}\".format(\n",
        "            epoch, n_epoch-1, loss, n_episodes, sum(win_history), win_rate, t))\n",
        "\n",
        "        # Update target network\n",
        "        if epoch % target_update_freq == 0:\n",
        "            target_model.set_weights(model.get_weights())\n",
        "\n",
        "\n",
        "        # Check if training has exhausted all free cells and if in all\n",
        "        # cases the agent won\n",
        "        if win_rate > 0.9:\n",
        "            epsilon = 0.05\n",
        "        else:\n",
        "            epsilon = max(epsilon * epsilon_decay, epsilon_min)\n",
        "\n",
        "        if win_rate >= 0.999 and completion_check(model, maze):\n",
        "            print(f\"Reached 100% win rate at epoch {epoch}\")\n",
        "            break\n",
        "\n",
        "    total_time = format_time((datetime.datetime.now() - start_time).total_seconds())\n",
        "    print(\"Training complete in:\", total_time)\n",
        "\n",
        "\n",
        "# This is a small utility for printing readable time strings:\n",
        "def format_time(seconds):\n",
        "    if seconds < 400:\n",
        "        s = float(seconds)\n",
        "        return \"%.1f seconds\" % (s,)\n",
        "    elif seconds < 4000:\n",
        "        m = seconds / 60.0\n",
        "        return \"%.2f minutes\" % (m,)\n",
        "    else:\n",
        "        h = seconds / 3600.0\n",
        "        return \"%.2f hours\" % (h,)"
      ]
    },
    {
      "cell_type": "markdown",
      "metadata": {
        "id": "_xRLnyX9qfEH"
      },
      "source": [
        "## Test Your Model\n",
        "\n",
        "Now we will start testing the deep Q-learning implementation. To begin, select **Cell**, then **Run All** from the menu bar. This will run your notebook. As it runs, you should see output begin to appear beneath the next few cells. The code below creates an <b>instance</b> of TreasureMaze. This does not show your actual training done."
      ]
    },
    {
      "cell_type": "code",
      "execution_count": 13,
      "metadata": {
        "colab": {
          "base_uri": "https://localhost:8080/",
          "height": 428
        },
        "id": "hCJ-79vqqfEH",
        "outputId": "b591b5ef-9d9d-4373-eef2-66333f22d4fc"
      },
      "outputs": [
        {
          "output_type": "execute_result",
          "data": {
            "text/plain": [
              "<matplotlib.image.AxesImage at 0x785c57e82db0>"
            ]
          },
          "metadata": {},
          "execution_count": 13
        },
        {
          "output_type": "display_data",
          "data": {
            "text/plain": [
              "<Figure size 640x480 with 1 Axes>"
            ],
            "image/png": "[encoded data removed]"
          },
          "metadata": {}
        }
      ],
      "source": [
        "qmaze = TreasureMaze(maze)\n",
        "show(qmaze)"
      ]
    },
    {
      "cell_type": "markdown",
      "metadata": {
        "id": "r_8010ZjqfEH"
      },
      "source": [
        "In the next code block, you will build your model using the <b>build_model</b> function and train it using deep Q-learning. Note: This step takes several minutes to fully run.\n",
        "\n"
      ]
    },
    {
      "cell_type": "markdown",
      "metadata": {
        "id": "2CPwIdnuqfEH"
      },
      "source": [
        "<div class=\"alert alert-block alert-danger\" style=\"color: #333333;\">\n",
        "    If you did not attempt the assignment, the code <b>will</b> error out at this section.\n",
        " </div>"
      ]
    },
    {
      "cell_type": "code",
      "execution_count": null,
      "metadata": {
        "colab": {
          "base_uri": "https://localhost:8080/"
        },
        "id": "UatnPuALqfEH",
        "scrolled": true,
        "outputId": "93a31825-8194-4440-c7e7-4d5113f325b3"
      },
      "outputs": [
        {
          "output_type": "stream",
          "name": "stderr",
          "text": [
            "/usr/local/lib/python3.12/dist-packages/keras/src/layers/core/dense.py:93: UserWarning: Do not pass an `input_shape`/`input_dim` argument to a layer. When using Sequential models, prefer using an `Input(shape)` object as the first layer in the model instead.\n",
            "  super().__init__(activity_regularizer=activity_regularizer, **kwargs)\n"
          ]
        },
        {
          "output_type": "stream",
          "name": "stdout",
          "text": [
            "Epoch: 000/999 | Loss: 0.5119 | Episodes: 1 | Win count: 0 | Win rate: 0.000 | time: 9.7 seconds\n",
            "Epoch: 001/999 | Loss: 0.2304 | Episodes: 2 | Win count: 0 | Win rate: 0.000 | time: 13.9 seconds\n",
            "Epoch: 002/999 | Loss: 0.2005 | Episodes: 3 | Win count: 1 | Win rate: 0.000 | time: 19.9 seconds\n",
            "Epoch: 003/999 | Loss: 0.4129 | Episodes: 4 | Win count: 1 | Win rate: 0.000 | time: 22.5 seconds\n",
            "Epoch: 004/999 | Loss: 0.1953 | Episodes: 5 | Win count: 2 | Win rate: 0.000 | time: 23.7 seconds\n",
            "Epoch: 005/999 | Loss: 0.1628 | Episodes: 6 | Win count: 3 | Win rate: 0.000 | time: 24.4 seconds\n",
            "Epoch: 006/999 | Loss: 0.0260 | Episodes: 7 | Win count: 4 | Win rate: 0.000 | time: 24.5 seconds\n",
            "Epoch: 007/999 | Loss: 0.6764 | Episodes: 8 | Win count: 4 | Win rate: 0.000 | time: 26.9 seconds\n",
            "Epoch: 008/999 | Loss: 0.0924 | Episodes: 9 | Win count: 5 | Win rate: 0.000 | time: 27.6 seconds\n",
            "Epoch: 009/999 | Loss: 0.7951 | Episodes: 10 | Win count: 5 | Win rate: 0.000 | time: 30.0 seconds\n",
            "Epoch: 010/999 | Loss: 0.6908 | Episodes: 11 | Win count: 5 | Win rate: 0.000 | time: 33.2 seconds\n",
            "Epoch: 011/999 | Loss: 0.4549 | Episodes: 12 | Win count: 5 | Win rate: 0.000 | time: 35.7 seconds\n",
            "Epoch: 012/999 | Loss: 0.2726 | Episodes: 13 | Win count: 5 | Win rate: 0.000 | time: 38.0 seconds\n",
            "Epoch: 013/999 | Loss: 0.0053 | Episodes: 14 | Win count: 6 | Win rate: 0.000 | time: 38.1 seconds\n",
            "Epoch: 014/999 | Loss: 0.2591 | Episodes: 15 | Win count: 6 | Win rate: 0.000 | time: 40.3 seconds\n",
            "Epoch: 015/999 | Loss: 0.2941 | Episodes: 16 | Win count: 6 | Win rate: 0.000 | time: 42.6 seconds\n",
            "Epoch: 016/999 | Loss: 0.0710 | Episodes: 17 | Win count: 7 | Win rate: 0.000 | time: 43.3 seconds\n",
            "Epoch: 017/999 | Loss: 0.0216 | Episodes: 18 | Win count: 8 | Win rate: 0.000 | time: 43.4 seconds\n",
            "Epoch: 018/999 | Loss: 0.5777 | Episodes: 19 | Win count: 8 | Win rate: 0.000 | time: 46.7 seconds\n",
            "Epoch: 019/999 | Loss: 0.3753 | Episodes: 20 | Win count: 8 | Win rate: 0.000 | time: 49.2 seconds\n",
            "Epoch: 020/999 | Loss: 0.5043 | Episodes: 21 | Win count: 8 | Win rate: 0.000 | time: 51.8 seconds\n",
            "Epoch: 021/999 | Loss: 0.2117 | Episodes: 22 | Win count: 9 | Win rate: 0.000 | time: 52.9 seconds\n",
            "Epoch: 022/999 | Loss: 0.0991 | Episodes: 23 | Win count: 10 | Win rate: 0.000 | time: 53.8 seconds\n",
            "Epoch: 023/999 | Loss: 0.4054 | Episodes: 24 | Win count: 10 | Win rate: 0.000 | time: 56.2 seconds\n",
            "Epoch: 024/999 | Loss: 0.4025 | Episodes: 25 | Win count: 10 | Win rate: 0.000 | time: 59.5 seconds\n",
            "Epoch: 025/999 | Loss: 0.4610 | Episodes: 26 | Win count: 10 | Win rate: 0.000 | time: 62.2 seconds\n",
            "Epoch: 026/999 | Loss: 0.1876 | Episodes: 27 | Win count: 11 | Win rate: 0.000 | time: 63.7 seconds\n",
            "Epoch: 027/999 | Loss: 0.0010 | Episodes: 28 | Win count: 12 | Win rate: 0.000 | time: 63.8 seconds\n",
            "Epoch: 028/999 | Loss: 0.3694 | Episodes: 29 | Win count: 12 | Win rate: 0.000 | time: 66.1 seconds\n",
            "Epoch: 029/999 | Loss: 0.3908 | Episodes: 30 | Win count: 12 | Win rate: 0.000 | time: 68.7 seconds\n",
            "Epoch: 030/999 | Loss: 0.3763 | Episodes: 31 | Win count: 12 | Win rate: 0.000 | time: 72.1 seconds\n",
            "Epoch: 031/999 | Loss: 0.2508 | Episodes: 32 | Win count: 12 | Win rate: 0.375 | time: 74.6 seconds\n",
            "Epoch: 032/999 | Loss: 0.2124 | Episodes: 33 | Win count: 12 | Win rate: 0.375 | time: 76.9 seconds\n",
            "Epoch: 033/999 | Loss: 0.1932 | Episodes: 34 | Win count: 12 | Win rate: 0.375 | time: 79.3 seconds\n",
            "Epoch: 034/999 | Loss: 0.1860 | Episodes: 35 | Win count: 12 | Win rate: 0.344 | time: 81.6 seconds\n",
            "Epoch: 035/999 | Loss: 0.0234 | Episodes: 36 | Win count: 13 | Win rate: 0.375 | time: 82.0 seconds\n",
            "Epoch: 036/999 | Loss: 0.1722 | Episodes: 37 | Win count: 14 | Win rate: 0.375 | time: 84.0 seconds\n",
            "Epoch: 037/999 | Loss: 0.3990 | Episodes: 38 | Win count: 14 | Win rate: 0.344 | time: 86.5 seconds\n",
            "Epoch: 038/999 | Loss: 0.3016 | Episodes: 39 | Win count: 14 | Win rate: 0.312 | time: 89.0 seconds\n",
            "Epoch: 039/999 | Loss: 0.3962 | Episodes: 40 | Win count: 14 | Win rate: 0.312 | time: 91.5 seconds\n",
            "Epoch: 040/999 | Loss: 0.2508 | Episodes: 41 | Win count: 14 | Win rate: 0.281 | time: 94.0 seconds\n",
            "Epoch: 041/999 | Loss: 0.0213 | Episodes: 42 | Win count: 15 | Win rate: 0.312 | time: 94.2 seconds\n",
            "Epoch: 042/999 | Loss: 0.2768 | Episodes: 43 | Win count: 15 | Win rate: 0.312 | time: 97.7 seconds\n",
            "Epoch: 043/999 | Loss: 0.2355 | Episodes: 44 | Win count: 16 | Win rate: 0.344 | time: 99.6 seconds\n",
            "Epoch: 044/999 | Loss: 0.3198 | Episodes: 45 | Win count: 16 | Win rate: 0.344 | time: 102.0 seconds\n",
            "Epoch: 045/999 | Loss: 0.0102 | Episodes: 46 | Win count: 17 | Win rate: 0.344 | time: 102.0 seconds\n",
            "Epoch: 046/999 | Loss: 0.2926 | Episodes: 47 | Win count: 17 | Win rate: 0.344 | time: 104.4 seconds\n",
            "Epoch: 047/999 | Loss: 0.2528 | Episodes: 48 | Win count: 18 | Win rate: 0.375 | time: 106.8 seconds\n",
            "Epoch: 048/999 | Loss: 0.1856 | Episodes: 49 | Win count: 18 | Win rate: 0.344 | time: 111.0 seconds\n",
            "Epoch: 049/999 | Loss: 0.1758 | Episodes: 50 | Win count: 18 | Win rate: 0.312 | time: 113.5 seconds\n",
            "Epoch: 050/999 | Loss: 0.1904 | Episodes: 51 | Win count: 19 | Win rate: 0.344 | time: 116.0 seconds\n",
            "Epoch: 051/999 | Loss: 0.2281 | Episodes: 52 | Win count: 19 | Win rate: 0.344 | time: 118.7 seconds\n",
            "Epoch: 052/999 | Loss: 0.2224 | Episodes: 53 | Win count: 19 | Win rate: 0.344 | time: 121.3 seconds\n",
            "Epoch: 053/999 | Loss: 0.2364 | Episodes: 54 | Win count: 19 | Win rate: 0.312 | time: 124.5 seconds\n",
            "Epoch: 054/999 | Loss: 0.2254 | Episodes: 55 | Win count: 19 | Win rate: 0.281 | time: 127.0 seconds\n",
            "Epoch: 055/999 | Loss: 0.0057 | Episodes: 56 | Win count: 20 | Win rate: 0.312 | time: 127.0 seconds\n",
            "Epoch: 056/999 | Loss: 0.1967 | Episodes: 57 | Win count: 20 | Win rate: 0.312 | time: 129.6 seconds\n",
            "Epoch: 057/999 | Loss: 0.1988 | Episodes: 58 | Win count: 20 | Win rate: 0.312 | time: 132.1 seconds\n",
            "Epoch: 058/999 | Loss: 0.1808 | Episodes: 59 | Win count: 20 | Win rate: 0.281 | time: 134.8 seconds\n",
            "Epoch: 059/999 | Loss: 0.0035 | Episodes: 60 | Win count: 21 | Win rate: 0.281 | time: 134.9 seconds\n",
            "Epoch: 060/999 | Loss: 0.2783 | Episodes: 61 | Win count: 21 | Win rate: 0.281 | time: 137.8 seconds\n",
            "Epoch: 061/999 | Loss: 0.0443 | Episodes: 62 | Win count: 22 | Win rate: 0.312 | time: 138.3 seconds\n",
            "Epoch: 062/999 | Loss: 0.3579 | Episodes: 63 | Win count: 22 | Win rate: 0.312 | time: 140.9 seconds\n",
            "Epoch: 063/999 | Loss: 0.1792 | Episodes: 64 | Win count: 23 | Win rate: 0.344 | time: 142.4 seconds\n",
            "Epoch: 064/999 | Loss: 0.0041 | Episodes: 65 | Win count: 24 | Win rate: 0.375 | time: 142.4 seconds\n",
            "Epoch: 065/999 | Loss: 0.3670 | Episodes: 66 | Win count: 24 | Win rate: 0.375 | time: 145.0 seconds\n",
            "Epoch: 066/999 | Loss: 0.0126 | Episodes: 67 | Win count: 25 | Win rate: 0.406 | time: 145.1 seconds\n",
            "Epoch: 067/999 | Loss: 0.3057 | Episodes: 68 | Win count: 25 | Win rate: 0.375 | time: 148.5 seconds\n",
            "Epoch: 068/999 | Loss: 0.2543 | Episodes: 69 | Win count: 25 | Win rate: 0.344 | time: 151.2 seconds\n",
            "Epoch: 069/999 | Loss: 0.2433 | Episodes: 70 | Win count: 25 | Win rate: 0.344 | time: 153.8 seconds\n",
            "Epoch: 070/999 | Loss: 0.2238 | Episodes: 71 | Win count: 25 | Win rate: 0.344 | time: 156.4 seconds\n",
            "Epoch: 071/999 | Loss: 0.1970 | Episodes: 72 | Win count: 25 | Win rate: 0.344 | time: 159.0 seconds\n",
            "Epoch: 072/999 | Loss: 0.1956 | Episodes: 73 | Win count: 25 | Win rate: 0.344 | time: 162.3 seconds\n",
            "Epoch: 073/999 | Loss: 0.0185 | Episodes: 74 | Win count: 26 | Win rate: 0.344 | time: 162.5 seconds\n",
            "Epoch: 074/999 | Loss: 0.2185 | Episodes: 75 | Win count: 26 | Win rate: 0.344 | time: 165.0 seconds\n",
            "Epoch: 075/999 | Loss: 0.2052 | Episodes: 76 | Win count: 26 | Win rate: 0.312 | time: 167.6 seconds\n",
            "Epoch: 076/999 | Loss: 0.2425 | Episodes: 77 | Win count: 26 | Win rate: 0.312 | time: 170.3 seconds\n",
            "Epoch: 077/999 | Loss: 0.1990 | Episodes: 78 | Win count: 26 | Win rate: 0.281 | time: 173.1 seconds\n",
            "Epoch: 078/999 | Loss: 0.0386 | Episodes: 79 | Win count: 27 | Win rate: 0.312 | time: 173.8 seconds\n",
            "Epoch: 079/999 | Loss: 0.0389 | Episodes: 80 | Win count: 28 | Win rate: 0.312 | time: 174.2 seconds\n",
            "Epoch: 080/999 | Loss: 0.3272 | Episodes: 81 | Win count: 28 | Win rate: 0.312 | time: 176.9 seconds\n",
            "Epoch: 081/999 | Loss: 0.3058 | Episodes: 82 | Win count: 28 | Win rate: 0.312 | time: 179.7 seconds\n",
            "Epoch: 082/999 | Loss: 0.2879 | Episodes: 83 | Win count: 28 | Win rate: 0.281 | time: 182.3 seconds\n",
            "Epoch: 083/999 | Loss: 0.2353 | Episodes: 84 | Win count: 28 | Win rate: 0.281 | time: 184.8 seconds\n",
            "Epoch: 084/999 | Loss: 0.0018 | Episodes: 85 | Win count: 29 | Win rate: 0.312 | time: 184.9 seconds\n",
            "Epoch: 085/999 | Loss: 0.2344 | Episodes: 86 | Win count: 29 | Win rate: 0.312 | time: 188.0 seconds\n",
            "Epoch: 086/999 | Loss: 0.0802 | Episodes: 87 | Win count: 30 | Win rate: 0.344 | time: 188.8 seconds\n",
            "Epoch: 087/999 | Loss: 0.0014 | Episodes: 88 | Win count: 31 | Win rate: 0.344 | time: 188.8 seconds\n",
            "Epoch: 088/999 | Loss: 0.2174 | Episodes: 89 | Win count: 31 | Win rate: 0.344 | time: 191.4 seconds\n",
            "Epoch: 089/999 | Loss: 0.2142 | Episodes: 90 | Win count: 31 | Win rate: 0.344 | time: 193.9 seconds\n",
            "Epoch: 090/999 | Loss: 0.1949 | Episodes: 91 | Win count: 31 | Win rate: 0.344 | time: 196.5 seconds\n",
            "Epoch: 091/999 | Loss: 0.2147 | Episodes: 92 | Win count: 31 | Win rate: 0.312 | time: 199.8 seconds\n",
            "Epoch: 092/999 | Loss: 0.0067 | Episodes: 93 | Win count: 32 | Win rate: 0.344 | time: 199.9 seconds\n",
            "Epoch: 093/999 | Loss: 0.0166 | Episodes: 94 | Win count: 33 | Win rate: 0.344 | time: 200.2 seconds\n",
            "Epoch: 094/999 | Loss: 0.0823 | Episodes: 95 | Win count: 34 | Win rate: 0.375 | time: 201.2 seconds\n",
            "Epoch: 095/999 | Loss: 0.2175 | Episodes: 96 | Win count: 34 | Win rate: 0.344 | time: 203.8 seconds\n",
            "Epoch: 096/999 | Loss: 0.2360 | Episodes: 97 | Win count: 34 | Win rate: 0.312 | time: 206.5 seconds\n",
            "Epoch: 097/999 | Loss: 0.2081 | Episodes: 98 | Win count: 34 | Win rate: 0.312 | time: 208.9 seconds\n",
            "Epoch: 098/999 | Loss: 0.0092 | Episodes: 99 | Win count: 35 | Win rate: 0.312 | time: 209.0 seconds\n",
            "Epoch: 099/999 | Loss: 0.1673 | Episodes: 100 | Win count: 35 | Win rate: 0.312 | time: 212.1 seconds\n",
            "Epoch: 100/999 | Loss: 0.0027 | Episodes: 101 | Win count: 36 | Win rate: 0.344 | time: 212.2 seconds\n",
            "Epoch: 101/999 | Loss: 0.1753 | Episodes: 102 | Win count: 36 | Win rate: 0.344 | time: 215.2 seconds\n",
            "Epoch: 102/999 | Loss: 0.0734 | Episodes: 103 | Win count: 37 | Win rate: 0.375 | time: 216.2 seconds\n",
            "Epoch: 103/999 | Loss: 0.2211 | Episodes: 104 | Win count: 37 | Win rate: 0.375 | time: 218.8 seconds\n",
            "Epoch: 104/999 | Loss: 0.0015 | Episodes: 105 | Win count: 38 | Win rate: 0.406 | time: 218.8 seconds\n",
            "Epoch: 105/999 | Loss: 0.2029 | Episodes: 106 | Win count: 38 | Win rate: 0.375 | time: 221.3 seconds\n",
            "Epoch: 106/999 | Loss: 0.1972 | Episodes: 107 | Win count: 38 | Win rate: 0.375 | time: 224.3 seconds\n",
            "Epoch: 107/999 | Loss: 0.1763 | Episodes: 108 | Win count: 38 | Win rate: 0.375 | time: 227.3 seconds\n",
            "Epoch: 108/999 | Loss: 0.1538 | Episodes: 109 | Win count: 38 | Win rate: 0.375 | time: 229.9 seconds\n",
            "Epoch: 109/999 | Loss: 0.1787 | Episodes: 110 | Win count: 38 | Win rate: 0.375 | time: 232.5 seconds\n",
            "Epoch: 110/999 | Loss: 0.2124 | Episodes: 111 | Win count: 38 | Win rate: 0.344 | time: 235.3 seconds\n",
            "Epoch: 111/999 | Loss: 0.1963 | Episodes: 112 | Win count: 39 | Win rate: 0.344 | time: 238.5 seconds\n",
            "Epoch: 112/999 | Loss: 0.0044 | Episodes: 113 | Win count: 40 | Win rate: 0.375 | time: 238.6 seconds\n",
            "Epoch: 113/999 | Loss: 0.2433 | Episodes: 114 | Win count: 40 | Win rate: 0.375 | time: 241.3 seconds\n",
            "Epoch: 114/999 | Loss: 0.0037 | Episodes: 115 | Win count: 41 | Win rate: 0.406 | time: 241.3 seconds\n",
            "Epoch: 115/999 | Loss: 0.3288 | Episodes: 116 | Win count: 41 | Win rate: 0.406 | time: 244.0 seconds\n",
            "Epoch: 116/999 | Loss: 0.3673 | Episodes: 117 | Win count: 41 | Win rate: 0.375 | time: 246.9 seconds\n",
            "Epoch: 117/999 | Loss: 0.2203 | Episodes: 118 | Win count: 41 | Win rate: 0.375 | time: 250.0 seconds\n",
            "Epoch: 118/999 | Loss: 0.0198 | Episodes: 119 | Win count: 42 | Win rate: 0.375 | time: 250.4 seconds\n",
            "Epoch: 119/999 | Loss: 0.2071 | Episodes: 120 | Win count: 42 | Win rate: 0.344 | time: 253.2 seconds\n",
            "Epoch: 120/999 | Loss: 0.2082 | Episodes: 121 | Win count: 42 | Win rate: 0.344 | time: 255.8 seconds\n",
            "Epoch: 121/999 | Loss: 0.1690 | Episodes: 122 | Win count: 42 | Win rate: 0.344 | time: 258.3 seconds\n",
            "Epoch: 122/999 | Loss: 0.2078 | Episodes: 123 | Win count: 43 | Win rate: 0.375 | time: 261.3 seconds\n",
            "Epoch: 123/999 | Loss: 0.1096 | Episodes: 124 | Win count: 44 | Win rate: 0.406 | time: 263.1 seconds\n",
            "Epoch: 124/999 | Loss: 0.0111 | Episodes: 125 | Win count: 45 | Win rate: 0.406 | time: 263.3 seconds\n"
          ]
        }
      ],
      "source": [
        "model = build_model(maze)\n",
        "qtrain(model, maze, n_epoch=1000, max_memory=8*maze.size, data_size=32, target_update_freq=50)"
      ]
    },
    {
      "cell_type": "markdown",
      "metadata": {
        "id": "7J-WxAmqqfEH"
      },
      "source": [
        "This cell will check to see if the model passes the completion check. Note: This could take several minutes."
      ]
    },
    {
      "cell_type": "code",
      "execution_count": null,
      "metadata": {
        "id": "B7LFuxgZqfEH"
      },
      "outputs": [],
      "source": [
        "completion_check(model, qmaze)\n",
        "show(qmaze)"
      ]
    },
    {
      "cell_type": "markdown",
      "metadata": {
        "id": "XB0TyEk9qfEI"
      },
      "source": [
        "This cell will test your model for one game. It will start the pirate at the top-left corner and run <b>play_game()</b>. The agent should find a path from the starting position to the target (treasure). The treasure is located in the bottom-right corner."
      ]
    },
    {
      "cell_type": "code",
      "execution_count": null,
      "metadata": {
        "id": "uJyA8DVuqfEI"
      },
      "outputs": [],
      "source": [
        "pirate_start = (0, 0)\n",
        "play_game(model, qmaze, pirate_start)\n",
        "show(qmaze)"
      ]
    },
    {
      "cell_type": "markdown",
      "metadata": {
        "id": "KQ4LGgqBqfEI"
      },
      "source": [
        "## Save and Submit Your Work\n",
        "After you have finished creating the code for your notebook, save your work.\n",
        "Make sure that your notebook contains your name in the filename (e.g. Doe_Jane_ProjectTwo.html). Download this file as an .html file clicking on ***file*** in *Jupyter Notebook*, navigating down to ***Download as*** and clicking on ***.html***.\n",
        "Download a copy of your .html file and submit it to Brightspace."
      ]
    },
    {
      "cell_type": "code",
      "execution_count": null,
      "metadata": {
        "id": "380e4f6b"
      },
      "outputs": [],
      "source": [
        "# Build the model (run after num_actions is defined)\n",
        "# Example:\n",
        "# model = build_model(maze, num_actions)\n"
      ]
    }
  ],
  "metadata": {
    "colab": {
      "provenance": [],
      "include_colab_link": true
    },
    "kernelspec": {
      "display_name": "Python 3 (ipykernel)",
      "language": "python",
      "name": "python3"
    },
    "language_info": {
      "codemirror_mode": {
        "name": "ipython",
        "version": 3
      },
      "file_extension": ".py",
      "mimetype": "text/x-python",
      "name": "python",
      "nbconvert_exporter": "python",
      "pygments_lexer": "ipython3",
      "version": "3.11.2"
    }
  },
  "nbformat": 4,
  "nbformat_minor": 0
}