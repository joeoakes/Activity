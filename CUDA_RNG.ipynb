{
  "cells": [
    {
      "cell_type": "code",
      "execution_count": 4,
      "metadata": {
        "colab": {
          "base_uri": "https://localhost:8080/"
        },
        "id": "AlXd3ipc4Xzn",
        "outputId": "f3e5eda6-d06d-4cb9-b7cd-e2b5048bb5ee"
      },
      "outputs": [
        {
          "output_type": "stream",
          "name": "stdout",
          "text": [
            "Requirement already satisfied: qiskit in /usr/local/lib/python3.12/dist-packages (2.2.1)\n",
            "Requirement already satisfied: qiskit-aer-gpu-cu11 in /usr/local/lib/python3.12/dist-packages (0.17.2)\n",
            "Requirement already satisfied: rustworkx>=0.15.0 in /usr/local/lib/python3.12/dist-packages (from qiskit) (0.17.1)\n",
            "Requirement already satisfied: numpy<3,>=1.17 in /usr/local/lib/python3.12/dist-packages (from qiskit) (2.0.2)\n",
            "Requirement already satisfied: scipy>=1.5 in /usr/local/lib/python3.12/dist-packages (from qiskit) (1.16.2)\n",
            "Requirement already satisfied: dill>=0.3 in /usr/local/lib/python3.12/dist-packages (from qiskit) (0.3.8)\n",
            "Requirement already satisfied: stevedore>=3.0.0 in /usr/local/lib/python3.12/dist-packages (from qiskit) (5.5.0)\n",
            "Requirement already satisfied: typing-extensions in /usr/local/lib/python3.12/dist-packages (from qiskit) (4.15.0)\n",
            "Requirement already satisfied: psutil>=5 in /usr/local/lib/python3.12/dist-packages (from qiskit-aer-gpu-cu11) (5.9.5)\n",
            "Requirement already satisfied: python-dateutil>=2.8.0 in /usr/local/lib/python3.12/dist-packages (from qiskit-aer-gpu-cu11) (2.9.0.post0)\n",
            "Requirement already satisfied: nvidia-cuda-runtime-cu11>=11.8.89 in /usr/local/lib/python3.12/dist-packages (from qiskit-aer-gpu-cu11) (11.8.89)\n",
            "Requirement already satisfied: nvidia-cublas-cu11>=11.11.3.6 in /usr/local/lib/python3.12/dist-packages (from qiskit-aer-gpu-cu11) (11.11.3.6)\n",
            "Requirement already satisfied: nvidia-cusolver-cu11>=11.4.1.48 in /usr/local/lib/python3.12/dist-packages (from qiskit-aer-gpu-cu11) (11.4.1.48)\n",
            "Requirement already satisfied: nvidia-cusparse-cu11>=11.7.5.86 in /usr/local/lib/python3.12/dist-packages (from qiskit-aer-gpu-cu11) (11.7.5.86)\n",
            "Requirement already satisfied: cuquantum-cu11<24.11.0,>=23.3.0 in /usr/local/lib/python3.12/dist-packages (from qiskit-aer-gpu-cu11) (24.8.0)\n",
            "Requirement already satisfied: custatevec-cu11==1.6.0.post1 in /usr/local/lib/python3.12/dist-packages (from cuquantum-cu11<24.11.0,>=23.3.0->qiskit-aer-gpu-cu11) (1.6.0.post1)\n",
            "Requirement already satisfied: cutensornet-cu11==2.5.0 in /usr/local/lib/python3.12/dist-packages (from cuquantum-cu11<24.11.0,>=23.3.0->qiskit-aer-gpu-cu11) (2.5.0)\n",
            "Requirement already satisfied: cutensor-cu11<3,>=2.0.1 in /usr/local/lib/python3.12/dist-packages (from cutensornet-cu11==2.5.0->cuquantum-cu11<24.11.0,>=23.3.0->qiskit-aer-gpu-cu11) (2.2.0)\n",
            "Requirement already satisfied: six>=1.5 in /usr/local/lib/python3.12/dist-packages (from python-dateutil>=2.8.0->qiskit-aer-gpu-cu11) (1.17.0)\n",
            "First 64 bits: 1111010100110110100111011111100010010111111011000001001011010101\n",
            "As int: 110913147920640788555886158422710252757433011594552377404535534933684429158214\n",
            "As 32 bytes (hex): f5369df897ec12d5f514fb36c66b693ea33480db499a91d50afac7dd0e467746\n"
          ]
        }
      ],
      "source": [
        "!pip install -U qiskit qiskit-aer-gpu-cu11\n",
        "\n",
        "# qrng_cuda.py\n",
        "from math import ceil\n",
        "from qiskit import QuantumCircuit, transpile\n",
        "from qiskit_aer import AerSimulator\n",
        "\n",
        "def qrng_cuda(n_bits: int, n_qubits: int = 32):\n",
        "    \"\"\"\n",
        "    Generate n_bits of random data using Qiskit Aer on CUDA.\n",
        "    - n_qubits controls how many random bits you get per shot (>=1).\n",
        "    Returns: dict with 'bits' (str), 'int' (int), 'bytes' (bytes).\n",
        "    \"\"\"\n",
        "    # Try GPU; fall back to CPU if not available\n",
        "    sim_check = AerSimulator() # Create an instance to check available devices\n",
        "    gpu_ok = 'GPU' in sim_check.available_devices()\n",
        "    sim = AerSimulator(method=\"statevector\",\n",
        "                       device=\"GPU\" if gpu_ok else \"CPU\",\n",
        "                       cuStateVec_enable=True)\n",
        "\n",
        "    shots = ceil(n_bits / n_qubits)\n",
        "\n",
        "    qc = QuantumCircuit(n_qubits, n_qubits)\n",
        "    qc.h(range(n_qubits))                    # put all qubits in |+>\n",
        "    qc.measure(range(n_qubits), range(n_qubits))  # measure to random bits\n",
        "\n",
        "    tqc = transpile(qc, sim)\n",
        "    # memory=True gives per-shot bitstrings (least-significant bit is qubit 0)\n",
        "    result = sim.run(tqc, shots=shots, memory=True).result()\n",
        "    bitstrings = result.get_memory(0)        # list like ['0101...', '1010...', ...]\n",
        "\n",
        "    # Concatenate and trim to requested length\n",
        "    bitstream = ''.join(bitstrings)[:n_bits]\n",
        "\n",
        "    as_int = int(bitstream, 2)\n",
        "    as_bytes = as_int.to_bytes((n_bits + 7) // 8, byteorder='big')\n",
        "\n",
        "    return {\n",
        "        \"bits\": bitstream,\n",
        "        \"int\": as_int,\n",
        "        \"bytes\": as_bytes,\n",
        "    }\n",
        "\n",
        "if __name__ == \"__main__\":\n",
        "    # EXAMPLE: 256 random bits (32 bytes)\n",
        "    out = qrng_cuda(256, n_qubits=16)\n",
        "    print(\"First 64 bits:\", out[\"bits\"][:64])\n",
        "    print(\"As int:\", out[\"int\"])\n",
        "    print(\"As 32 bytes (hex):\", out[\"bytes\"].hex())"
      ]
    }
  ],
  "metadata": {
    "accelerator": "GPU",
    "colab": {
      "gpuType": "T4",
      "provenance": [],
      "authorship_tag": "ABX9TyOHxD95frZgDB4mig2IxqN3"
    },
    "kernelspec": {
      "display_name": "Python 3",
      "name": "python3"
    },
    "language_info": {
      "name": "python"
    }
  },
  "nbformat": 4,
  "nbformat_minor": 0
}